{
 "cells": [
  {
   "cell_type": "code",
   "execution_count": 1,
   "metadata": {},
   "outputs": [],
   "source": [
    "import numpy as np\n",
    "import pandas as pd\n",
    "import matplotlib.pyplot as plt\n",
    "%matplotlib inline\n",
    "import math\n",
    "\n",
    "from sklearn.preprocessing import MinMaxScaler\n",
    "from sklearn.metrics import mean_squared_error\n",
    "\n",
    "import tensorflow as tf\n",
    "\n",
    "from tensorflow.python.keras.models import Sequential\n",
    "from tensorflow.python.keras.layers import Dense \n",
    "from tensorflow.python.keras.layers import LSTM"
   ]
  },
  {
   "cell_type": "code",
   "execution_count": 2,
   "metadata": {},
   "outputs": [],
   "source": [
    "data = pd.read_csv('bitcoin_ticker.csv')"
   ]
  },
  {
   "cell_type": "code",
   "execution_count": 3,
   "metadata": {},
   "outputs": [
    {
     "data": {
      "text/html": [
       "<div>\n",
       "<style scoped>\n",
       "    .dataframe tbody tr th:only-of-type {\n",
       "        vertical-align: middle;\n",
       "    }\n",
       "\n",
       "    .dataframe tbody tr th {\n",
       "        vertical-align: top;\n",
       "    }\n",
       "\n",
       "    .dataframe thead th {\n",
       "        text-align: right;\n",
       "    }\n",
       "</style>\n",
       "<table border=\"1\" class=\"dataframe\">\n",
       "  <thead>\n",
       "    <tr style=\"text-align: right;\">\n",
       "      <th></th>\n",
       "      <th>date_id</th>\n",
       "      <th>datetime_id</th>\n",
       "      <th>market</th>\n",
       "      <th>rpt_key</th>\n",
       "      <th>last</th>\n",
       "      <th>diff_24h</th>\n",
       "      <th>diff_per_24h</th>\n",
       "      <th>bid</th>\n",
       "      <th>ask</th>\n",
       "      <th>low</th>\n",
       "      <th>high</th>\n",
       "      <th>volume</th>\n",
       "      <th>created_at</th>\n",
       "      <th>updated_at</th>\n",
       "    </tr>\n",
       "  </thead>\n",
       "  <tbody>\n",
       "    <tr>\n",
       "      <th>0</th>\n",
       "      <td>2017-05-31</td>\n",
       "      <td>2017-06-01 00:00:00</td>\n",
       "      <td>bitstamp</td>\n",
       "      <td>btc_eur</td>\n",
       "      <td>1996.72</td>\n",
       "      <td>2029.99</td>\n",
       "      <td>-1.638924</td>\n",
       "      <td>2005.50</td>\n",
       "      <td>2005.56</td>\n",
       "      <td>1950.00</td>\n",
       "      <td>2063.73</td>\n",
       "      <td>2314.500750</td>\n",
       "      <td>2017-05-31 14:59:36</td>\n",
       "      <td>2017-05-31 14:59:36</td>\n",
       "    </tr>\n",
       "    <tr>\n",
       "      <th>1</th>\n",
       "      <td>2017-05-31</td>\n",
       "      <td>2017-06-01 00:00:00</td>\n",
       "      <td>bitflyer</td>\n",
       "      <td>btc_jpy</td>\n",
       "      <td>267098.00</td>\n",
       "      <td>269649.00</td>\n",
       "      <td>-0.946045</td>\n",
       "      <td>267124.00</td>\n",
       "      <td>267267.00</td>\n",
       "      <td>267124.00</td>\n",
       "      <td>267267.00</td>\n",
       "      <td>70922.880112</td>\n",
       "      <td>2017-05-31 14:59:36</td>\n",
       "      <td>2017-05-31 14:59:36</td>\n",
       "    </tr>\n",
       "    <tr>\n",
       "      <th>2</th>\n",
       "      <td>2017-05-31</td>\n",
       "      <td>2017-06-01 00:00:00</td>\n",
       "      <td>korbit</td>\n",
       "      <td>btc_krw</td>\n",
       "      <td>3003500.00</td>\n",
       "      <td>3140000.00</td>\n",
       "      <td>-4.347134</td>\n",
       "      <td>3003500.00</td>\n",
       "      <td>3004000.00</td>\n",
       "      <td>3002000.00</td>\n",
       "      <td>3209500.00</td>\n",
       "      <td>6109.752872</td>\n",
       "      <td>2017-05-31 14:59:36</td>\n",
       "      <td>2017-05-31 14:59:36</td>\n",
       "    </tr>\n",
       "    <tr>\n",
       "      <th>3</th>\n",
       "      <td>2017-05-31</td>\n",
       "      <td>2017-06-01 00:00:00</td>\n",
       "      <td>bitstamp</td>\n",
       "      <td>btc_usd</td>\n",
       "      <td>2237.40</td>\n",
       "      <td>2239.37</td>\n",
       "      <td>-0.087971</td>\n",
       "      <td>2233.09</td>\n",
       "      <td>2237.40</td>\n",
       "      <td>2154.28</td>\n",
       "      <td>2293.46</td>\n",
       "      <td>13681.282017</td>\n",
       "      <td>2017-05-31 14:59:36</td>\n",
       "      <td>2017-05-31 14:59:36</td>\n",
       "    </tr>\n",
       "    <tr>\n",
       "      <th>4</th>\n",
       "      <td>2017-05-31</td>\n",
       "      <td>2017-06-01 00:00:00</td>\n",
       "      <td>okcoin</td>\n",
       "      <td>btc_usd</td>\n",
       "      <td>2318.82</td>\n",
       "      <td>2228.70</td>\n",
       "      <td>4.043613</td>\n",
       "      <td>2319.40</td>\n",
       "      <td>2319.99</td>\n",
       "      <td>2129.78</td>\n",
       "      <td>2318.82</td>\n",
       "      <td>4241.641516</td>\n",
       "      <td>2017-05-31 14:59:36</td>\n",
       "      <td>2017-05-31 14:59:36</td>\n",
       "    </tr>\n",
       "  </tbody>\n",
       "</table>\n",
       "</div>"
      ],
      "text/plain": [
       "      date_id          datetime_id    market  rpt_key        last    diff_24h  \\\n",
       "0  2017-05-31  2017-06-01 00:00:00  bitstamp  btc_eur     1996.72     2029.99   \n",
       "1  2017-05-31  2017-06-01 00:00:00  bitflyer  btc_jpy   267098.00   269649.00   \n",
       "2  2017-05-31  2017-06-01 00:00:00    korbit  btc_krw  3003500.00  3140000.00   \n",
       "3  2017-05-31  2017-06-01 00:00:00  bitstamp  btc_usd     2237.40     2239.37   \n",
       "4  2017-05-31  2017-06-01 00:00:00    okcoin  btc_usd     2318.82     2228.70   \n",
       "\n",
       "   diff_per_24h         bid         ask         low        high        volume  \\\n",
       "0     -1.638924     2005.50     2005.56     1950.00     2063.73   2314.500750   \n",
       "1     -0.946045   267124.00   267267.00   267124.00   267267.00  70922.880112   \n",
       "2     -4.347134  3003500.00  3004000.00  3002000.00  3209500.00   6109.752872   \n",
       "3     -0.087971     2233.09     2237.40     2154.28     2293.46  13681.282017   \n",
       "4      4.043613     2319.40     2319.99     2129.78     2318.82   4241.641516   \n",
       "\n",
       "            created_at           updated_at  \n",
       "0  2017-05-31 14:59:36  2017-05-31 14:59:36  \n",
       "1  2017-05-31 14:59:36  2017-05-31 14:59:36  \n",
       "2  2017-05-31 14:59:36  2017-05-31 14:59:36  \n",
       "3  2017-05-31 14:59:36  2017-05-31 14:59:36  \n",
       "4  2017-05-31 14:59:36  2017-05-31 14:59:36  "
      ]
     },
     "execution_count": 3,
     "metadata": {},
     "output_type": "execute_result"
    }
   ],
   "source": [
    "data.head()"
   ]
  },
  {
   "cell_type": "code",
   "execution_count": 4,
   "metadata": {},
   "outputs": [
    {
     "data": {
      "text/plain": [
       "btc_usd       125438\n",
       "btc_krw        62719\n",
       "btc_jpy        62719\n",
       "eth_krw        62719\n",
       "btc_eur        62719\n",
       "etc_krw        62719\n",
       "ltc_usd        62719\n",
       "eth_btc        62719\n",
       "fx_btc_jpy     62719\n",
       "Name: rpt_key, dtype: int64"
      ]
     },
     "execution_count": 4,
     "metadata": {},
     "output_type": "execute_result"
    }
   ],
   "source": [
    "data['rpt_key'].value_counts()"
   ]
  },
  {
   "cell_type": "code",
   "execution_count": 5,
   "metadata": {},
   "outputs": [],
   "source": [
    "df = data.loc[(data['rpt_key'] == 'btc_usd')]"
   ]
  },
  {
   "cell_type": "code",
   "execution_count": 6,
   "metadata": {},
   "outputs": [
    {
     "data": {
      "text/html": [
       "<div>\n",
       "<style scoped>\n",
       "    .dataframe tbody tr th:only-of-type {\n",
       "        vertical-align: middle;\n",
       "    }\n",
       "\n",
       "    .dataframe tbody tr th {\n",
       "        vertical-align: top;\n",
       "    }\n",
       "\n",
       "    .dataframe thead th {\n",
       "        text-align: right;\n",
       "    }\n",
       "</style>\n",
       "<table border=\"1\" class=\"dataframe\">\n",
       "  <thead>\n",
       "    <tr style=\"text-align: right;\">\n",
       "      <th></th>\n",
       "      <th>date_id</th>\n",
       "      <th>datetime_id</th>\n",
       "      <th>market</th>\n",
       "      <th>rpt_key</th>\n",
       "      <th>last</th>\n",
       "      <th>diff_24h</th>\n",
       "      <th>diff_per_24h</th>\n",
       "      <th>bid</th>\n",
       "      <th>ask</th>\n",
       "      <th>low</th>\n",
       "      <th>high</th>\n",
       "      <th>volume</th>\n",
       "      <th>created_at</th>\n",
       "      <th>updated_at</th>\n",
       "    </tr>\n",
       "  </thead>\n",
       "  <tbody>\n",
       "    <tr>\n",
       "      <th>3</th>\n",
       "      <td>2017-05-31</td>\n",
       "      <td>2017-06-01 00:00:00</td>\n",
       "      <td>bitstamp</td>\n",
       "      <td>btc_usd</td>\n",
       "      <td>2237.40</td>\n",
       "      <td>2239.37</td>\n",
       "      <td>-0.087971</td>\n",
       "      <td>2233.09</td>\n",
       "      <td>2237.40</td>\n",
       "      <td>2154.28</td>\n",
       "      <td>2293.46</td>\n",
       "      <td>13681.282017</td>\n",
       "      <td>2017-05-31 14:59:36</td>\n",
       "      <td>2017-05-31 14:59:36</td>\n",
       "    </tr>\n",
       "    <tr>\n",
       "      <th>4</th>\n",
       "      <td>2017-05-31</td>\n",
       "      <td>2017-06-01 00:00:00</td>\n",
       "      <td>okcoin</td>\n",
       "      <td>btc_usd</td>\n",
       "      <td>2318.82</td>\n",
       "      <td>2228.70</td>\n",
       "      <td>4.043613</td>\n",
       "      <td>2319.40</td>\n",
       "      <td>2319.99</td>\n",
       "      <td>2129.78</td>\n",
       "      <td>2318.82</td>\n",
       "      <td>4241.641516</td>\n",
       "      <td>2017-05-31 14:59:36</td>\n",
       "      <td>2017-05-31 14:59:36</td>\n",
       "    </tr>\n",
       "    <tr>\n",
       "      <th>15</th>\n",
       "      <td>2017-06-01</td>\n",
       "      <td>2017-06-01 00:01:00</td>\n",
       "      <td>bitstamp</td>\n",
       "      <td>btc_usd</td>\n",
       "      <td>2248.39</td>\n",
       "      <td>2242.44</td>\n",
       "      <td>0.265336</td>\n",
       "      <td>2247.77</td>\n",
       "      <td>2248.38</td>\n",
       "      <td>2154.28</td>\n",
       "      <td>2293.46</td>\n",
       "      <td>13701.698603</td>\n",
       "      <td>2017-05-31 15:00:36</td>\n",
       "      <td>2017-05-31 15:00:36</td>\n",
       "    </tr>\n",
       "    <tr>\n",
       "      <th>16</th>\n",
       "      <td>2017-06-01</td>\n",
       "      <td>2017-06-01 00:01:00</td>\n",
       "      <td>okcoin</td>\n",
       "      <td>btc_usd</td>\n",
       "      <td>2320.42</td>\n",
       "      <td>2228.40</td>\n",
       "      <td>4.129420</td>\n",
       "      <td>2320.99</td>\n",
       "      <td>2321.49</td>\n",
       "      <td>2129.78</td>\n",
       "      <td>2322.00</td>\n",
       "      <td>4260.261516</td>\n",
       "      <td>2017-05-31 15:00:36</td>\n",
       "      <td>2017-05-31 15:00:36</td>\n",
       "    </tr>\n",
       "    <tr>\n",
       "      <th>23</th>\n",
       "      <td>2017-06-01</td>\n",
       "      <td>2017-06-01 00:02:00</td>\n",
       "      <td>bitstamp</td>\n",
       "      <td>btc_usd</td>\n",
       "      <td>2248.35</td>\n",
       "      <td>2238.58</td>\n",
       "      <td>0.436437</td>\n",
       "      <td>2248.35</td>\n",
       "      <td>2248.69</td>\n",
       "      <td>2154.28</td>\n",
       "      <td>2293.46</td>\n",
       "      <td>13742.110913</td>\n",
       "      <td>2017-05-31 15:01:36</td>\n",
       "      <td>2017-05-31 15:01:36</td>\n",
       "    </tr>\n",
       "  </tbody>\n",
       "</table>\n",
       "</div>"
      ],
      "text/plain": [
       "       date_id          datetime_id    market  rpt_key     last  diff_24h  \\\n",
       "3   2017-05-31  2017-06-01 00:00:00  bitstamp  btc_usd  2237.40   2239.37   \n",
       "4   2017-05-31  2017-06-01 00:00:00    okcoin  btc_usd  2318.82   2228.70   \n",
       "15  2017-06-01  2017-06-01 00:01:00  bitstamp  btc_usd  2248.39   2242.44   \n",
       "16  2017-06-01  2017-06-01 00:01:00    okcoin  btc_usd  2320.42   2228.40   \n",
       "23  2017-06-01  2017-06-01 00:02:00  bitstamp  btc_usd  2248.35   2238.58   \n",
       "\n",
       "    diff_per_24h      bid      ask      low     high        volume  \\\n",
       "3      -0.087971  2233.09  2237.40  2154.28  2293.46  13681.282017   \n",
       "4       4.043613  2319.40  2319.99  2129.78  2318.82   4241.641516   \n",
       "15      0.265336  2247.77  2248.38  2154.28  2293.46  13701.698603   \n",
       "16      4.129420  2320.99  2321.49  2129.78  2322.00   4260.261516   \n",
       "23      0.436437  2248.35  2248.69  2154.28  2293.46  13742.110913   \n",
       "\n",
       "             created_at           updated_at  \n",
       "3   2017-05-31 14:59:36  2017-05-31 14:59:36  \n",
       "4   2017-05-31 14:59:36  2017-05-31 14:59:36  \n",
       "15  2017-05-31 15:00:36  2017-05-31 15:00:36  \n",
       "16  2017-05-31 15:00:36  2017-05-31 15:00:36  \n",
       "23  2017-05-31 15:01:36  2017-05-31 15:01:36  "
      ]
     },
     "execution_count": 6,
     "metadata": {},
     "output_type": "execute_result"
    }
   ],
   "source": [
    "df.head()"
   ]
  },
  {
   "cell_type": "code",
   "execution_count": 7,
   "metadata": {},
   "outputs": [],
   "source": [
    "df = df.reset_index(drop=True)\n",
    "df['datetime'] = pd.to_datetime(df['datetime_id'])\n",
    "df = df.loc[df['datetime'] > pd.to_datetime('2017-06-28 00:00:00')]\n"
   ]
  },
  {
   "cell_type": "code",
   "execution_count": 8,
   "metadata": {},
   "outputs": [],
   "source": [
    "df = df[['datetime', 'last', 'diff_24h', 'bid', 'ask', 'low', 'high', 'volume']]"
   ]
  },
  {
   "cell_type": "code",
   "execution_count": 9,
   "metadata": {},
   "outputs": [
    {
     "data": {
      "text/html": [
       "<div>\n",
       "<style scoped>\n",
       "    .dataframe tbody tr th:only-of-type {\n",
       "        vertical-align: middle;\n",
       "    }\n",
       "\n",
       "    .dataframe tbody tr th {\n",
       "        vertical-align: top;\n",
       "    }\n",
       "\n",
       "    .dataframe thead th {\n",
       "        text-align: right;\n",
       "    }\n",
       "</style>\n",
       "<table border=\"1\" class=\"dataframe\">\n",
       "  <thead>\n",
       "    <tr style=\"text-align: right;\">\n",
       "      <th></th>\n",
       "      <th>datetime</th>\n",
       "      <th>last</th>\n",
       "      <th>diff_24h</th>\n",
       "      <th>bid</th>\n",
       "      <th>ask</th>\n",
       "      <th>low</th>\n",
       "      <th>high</th>\n",
       "      <th>volume</th>\n",
       "    </tr>\n",
       "  </thead>\n",
       "  <tbody>\n",
       "    <tr>\n",
       "      <th>77762</th>\n",
       "      <td>2017-06-28 00:01:00</td>\n",
       "      <td>2344.00</td>\n",
       "      <td>2491.98</td>\n",
       "      <td>2335.01</td>\n",
       "      <td>2343.89</td>\n",
       "      <td>2307.0</td>\n",
       "      <td>2473.19</td>\n",
       "      <td>20719.583592</td>\n",
       "    </tr>\n",
       "    <tr>\n",
       "      <th>77763</th>\n",
       "      <td>2017-06-28 00:01:00</td>\n",
       "      <td>2499.39</td>\n",
       "      <td>2682.25</td>\n",
       "      <td>2495.00</td>\n",
       "      <td>2499.33</td>\n",
       "      <td>2444.0</td>\n",
       "      <td>2780.62</td>\n",
       "      <td>2265.557866</td>\n",
       "    </tr>\n",
       "    <tr>\n",
       "      <th>77764</th>\n",
       "      <td>2017-06-28 00:02:00</td>\n",
       "      <td>2337.18</td>\n",
       "      <td>2491.98</td>\n",
       "      <td>2337.18</td>\n",
       "      <td>2340.00</td>\n",
       "      <td>2307.0</td>\n",
       "      <td>2473.19</td>\n",
       "      <td>20732.082581</td>\n",
       "    </tr>\n",
       "    <tr>\n",
       "      <th>77765</th>\n",
       "      <td>2017-06-28 00:02:00</td>\n",
       "      <td>2492.76</td>\n",
       "      <td>2682.25</td>\n",
       "      <td>2492.76</td>\n",
       "      <td>2495.00</td>\n",
       "      <td>2444.0</td>\n",
       "      <td>2780.62</td>\n",
       "      <td>2262.618866</td>\n",
       "    </tr>\n",
       "    <tr>\n",
       "      <th>77766</th>\n",
       "      <td>2017-06-28 00:03:00</td>\n",
       "      <td>2335.02</td>\n",
       "      <td>2491.98</td>\n",
       "      <td>2335.01</td>\n",
       "      <td>2335.02</td>\n",
       "      <td>2307.0</td>\n",
       "      <td>2473.19</td>\n",
       "      <td>20665.357191</td>\n",
       "    </tr>\n",
       "  </tbody>\n",
       "</table>\n",
       "</div>"
      ],
      "text/plain": [
       "                 datetime     last  diff_24h      bid      ask     low  \\\n",
       "77762 2017-06-28 00:01:00  2344.00   2491.98  2335.01  2343.89  2307.0   \n",
       "77763 2017-06-28 00:01:00  2499.39   2682.25  2495.00  2499.33  2444.0   \n",
       "77764 2017-06-28 00:02:00  2337.18   2491.98  2337.18  2340.00  2307.0   \n",
       "77765 2017-06-28 00:02:00  2492.76   2682.25  2492.76  2495.00  2444.0   \n",
       "77766 2017-06-28 00:03:00  2335.02   2491.98  2335.01  2335.02  2307.0   \n",
       "\n",
       "          high        volume  \n",
       "77762  2473.19  20719.583592  \n",
       "77763  2780.62   2265.557866  \n",
       "77764  2473.19  20732.082581  \n",
       "77765  2780.62   2262.618866  \n",
       "77766  2473.19  20665.357191  "
      ]
     },
     "execution_count": 9,
     "metadata": {},
     "output_type": "execute_result"
    }
   ],
   "source": [
    "df.head()"
   ]
  },
  {
   "cell_type": "code",
   "execution_count": 10,
   "metadata": {},
   "outputs": [],
   "source": [
    "df = df[['last']]"
   ]
  },
  {
   "cell_type": "code",
   "execution_count": 11,
   "metadata": {},
   "outputs": [],
   "source": [
    "dataset = df.values\n",
    "dataset = dataset.astype('float32')"
   ]
  },
  {
   "cell_type": "code",
   "execution_count": 12,
   "metadata": {},
   "outputs": [
    {
     "data": {
      "text/plain": [
       "array([[2344.  ],\n",
       "       [2499.39],\n",
       "       [2337.18],\n",
       "       ...,\n",
       "       [2394.03],\n",
       "       [2320.47],\n",
       "       [2394.03]], dtype=float32)"
      ]
     },
     "execution_count": 12,
     "metadata": {},
     "output_type": "execute_result"
    }
   ],
   "source": [
    "dataset"
   ]
  },
  {
   "cell_type": "code",
   "execution_count": 13,
   "metadata": {},
   "outputs": [],
   "source": [
    "scaler = MinMaxScaler(feature_range=(0, 1))\n",
    "dataset = scaler.fit_transform(dataset)"
   ]
  },
  {
   "cell_type": "code",
   "execution_count": 14,
   "metadata": {},
   "outputs": [
    {
     "data": {
      "text/plain": [
       "array([[0.1997695 ],\n",
       "       [0.49828053],\n",
       "       [0.18666792],\n",
       "       ...,\n",
       "       [0.29587936],\n",
       "       [0.15456724],\n",
       "       [0.29587936]], dtype=float32)"
      ]
     },
     "execution_count": 14,
     "metadata": {},
     "output_type": "execute_result"
    }
   ],
   "source": [
    "dataset"
   ]
  },
  {
   "cell_type": "code",
   "execution_count": 15,
   "metadata": {},
   "outputs": [
    {
     "name": "stdout",
     "output_type": "stream",
     "text": [
      "31942 15734\n"
     ]
    }
   ],
   "source": [
    "train_size = int(len(dataset) * 0.67)\n",
    "test_size = len(dataset) - train_size\n",
    "train, test = dataset[0:train_size, :], dataset[train_size: len(dataset), :]\n",
    "print(len(train), len(test))"
   ]
  },
  {
   "cell_type": "code",
   "execution_count": 16,
   "metadata": {},
   "outputs": [],
   "source": [
    "#convert an arrayt of values into a dataset matrix\n",
    "def create_dataset(dataset, look_back=1):\n",
    "    dataX, dataY = [], []\n",
    "    for i in range(len(dataset) - look_back):\n",
    "        a = dataset[i:(i + look_back), 0]\n",
    "        dataX.append(a)\n",
    "        dataY.append(dataset[i + look_back, 0])\n",
    "    return np.array(dataX), np.array(dataY)"
   ]
  },
  {
   "cell_type": "code",
   "execution_count": 17,
   "metadata": {},
   "outputs": [],
   "source": [
    "look_back = 10\n",
    "trainX, trainY = create_dataset(train, look_back=look_back)\n",
    "testX, testY = create_dataset(test, look_back=look_back)"
   ]
  },
  {
   "cell_type": "code",
   "execution_count": 18,
   "metadata": {},
   "outputs": [
    {
     "data": {
      "text/plain": [
       "array([[0.1997695 , 0.49828053, 0.18666792, ..., 0.4975314 , 0.19973087,\n",
       "        0.4860053 ],\n",
       "       [0.49828053, 0.18666792, 0.4855442 , ..., 0.19973087, 0.4860053 ,\n",
       "        0.18442059],\n",
       "       [0.18666792, 0.4855442 , 0.18251848, ..., 0.4860053 , 0.18442059,\n",
       "        0.48598576],\n",
       "       ...,\n",
       "       [0.6943617 , 0.53105354, 0.70823145, ..., 0.5205841 , 0.7081547 ,\n",
       "        0.52665424],\n",
       "       [0.53105354, 0.70823145, 0.5332055 , ..., 0.7081547 , 0.52665424,\n",
       "        0.7081547 ],\n",
       "       [0.70823145, 0.5332055 , 0.69155693, ..., 0.52665424, 0.7081547 ,\n",
       "        0.5206418 ]], dtype=float32)"
      ]
     },
     "execution_count": 18,
     "metadata": {},
     "output_type": "execute_result"
    }
   ],
   "source": [
    "trainX"
   ]
  },
  {
   "cell_type": "code",
   "execution_count": 19,
   "metadata": {},
   "outputs": [
    {
     "data": {
      "text/plain": [
       "array([0.18442059, 0.48598576, 0.19208527, ..., 0.7081547 , 0.5206418 ,\n",
       "       0.70805883], dtype=float32)"
      ]
     },
     "execution_count": 19,
     "metadata": {},
     "output_type": "execute_result"
    }
   ],
   "source": [
    "trainY"
   ]
  },
  {
   "cell_type": "code",
   "execution_count": 20,
   "metadata": {},
   "outputs": [],
   "source": [
    "#reshape input to be [sample, time steps, features]\n",
    "trainX = np.reshape(trainX, (trainX.shape[0], 1, trainX.shape[1]))\n",
    "testX = np.reshape(testX, (testX.shape[0], 1, testX.shape[1]))"
   ]
  },
  {
   "cell_type": "code",
   "execution_count": 21,
   "metadata": {},
   "outputs": [
    {
     "name": "stdout",
     "output_type": "stream",
     "text": [
      "Epoch 1/100\n",
      "31932/31932 [==============================] - 7s 209us/step - loss: 0.2168\n",
      "Epoch 2/100\n",
      "31932/31932 [==============================] - 1s 41us/step - loss: 0.0121\n",
      "Epoch 3/100\n",
      "31932/31932 [==============================] - 1s 30us/step - loss: 0.0061\n",
      "Epoch 4/100\n",
      "31932/31932 [==============================] - 1s 21us/step - loss: 0.0048\n",
      "Epoch 5/100\n",
      "31932/31932 [==============================] - 1s 20us/step - loss: 0.0034\n",
      "Epoch 6/100\n",
      "31932/31932 [==============================] - 1s 23us/step - loss: 0.0022\n",
      "Epoch 7/100\n",
      "31932/31932 [==============================] - 1s 16us/step - loss: 0.0012\n",
      "Epoch 8/100\n",
      "31932/31932 [==============================] - 1s 16us/step - loss: 5.8688e-04\n",
      "Epoch 9/100\n",
      "31932/31932 [==============================] - 0s 14us/step - loss: 2.8265e-04: 0s - loss: 2.9878e-\n",
      "Epoch 10/100\n",
      "31932/31932 [==============================] - 0s 14us/step - loss: 1.7404e-04\n",
      "Epoch 11/100\n",
      "31932/31932 [==============================] - 0s 12us/step - loss: 1.4190e-04\n",
      "Epoch 12/100\n",
      "31932/31932 [==============================] - 0s 14us/step - loss: 1.3121e-04\n",
      "Epoch 13/100\n",
      "31932/31932 [==============================] - 0s 12us/step - loss: 1.2581e-04\n",
      "Epoch 14/100\n",
      "31932/31932 [==============================] - 0s 12us/step - loss: 1.2237e-04\n",
      "Epoch 15/100\n",
      "31932/31932 [==============================] - 0s 12us/step - loss: 1.1997e-04\n",
      "Epoch 16/100\n",
      "31932/31932 [==============================] - 0s 11us/step - loss: 1.1822e-04\n",
      "Epoch 17/100\n",
      "31932/31932 [==============================] - 0s 12us/step - loss: 1.1703e-04\n",
      "Epoch 18/100\n",
      "31932/31932 [==============================] - 0s 13us/step - loss: 1.1614e-04\n",
      "Epoch 19/100\n",
      "31932/31932 [==============================] - 0s 12us/step - loss: 1.1536e-04\n",
      "Epoch 20/100\n",
      "31932/31932 [==============================] - 0s 10us/step - loss: 1.1479e-04\n",
      "Epoch 21/100\n",
      "31932/31932 [==============================] - 0s 13us/step - loss: 1.1440e-04\n",
      "Epoch 22/100\n",
      "31932/31932 [==============================] - 0s 13us/step - loss: 1.1403e-04\n",
      "Epoch 23/100\n",
      "31932/31932 [==============================] - 0s 13us/step - loss: 1.1363e-04\n",
      "Epoch 24/100\n",
      "31932/31932 [==============================] - 0s 12us/step - loss: 1.1331e-04\n",
      "Epoch 25/100\n",
      "31932/31932 [==============================] - 0s 10us/step - loss: 1.1297e-04\n",
      "Epoch 26/100\n",
      "31932/31932 [==============================] - 0s 13us/step - loss: 1.1271e-04\n",
      "Epoch 27/100\n",
      "31932/31932 [==============================] - 0s 13us/step - loss: 1.1238e-04\n",
      "Epoch 28/100\n",
      "31932/31932 [==============================] - 0s 11us/step - loss: 1.1203e-04\n",
      "Epoch 29/100\n",
      "31932/31932 [==============================] - 0s 10us/step - loss: 1.1173e-04\n",
      "Epoch 30/100\n",
      "31932/31932 [==============================] - 0s 12us/step - loss: 1.1144e-04: 0s - loss: 1.128\n",
      "Epoch 31/100\n",
      "31932/31932 [==============================] - 0s 11us/step - loss: 1.1115e-04\n",
      "Epoch 32/100\n",
      "31932/31932 [==============================] - 0s 10us/step - loss: 1.1077e-04\n",
      "Epoch 33/100\n",
      "31932/31932 [==============================] - 0s 11us/step - loss: 1.1054e-04\n",
      "Epoch 34/100\n",
      "31932/31932 [==============================] - 0s 12us/step - loss: 1.1010e-04\n",
      "Epoch 35/100\n",
      "31932/31932 [==============================] - 0s 9us/step - loss: 1.0980e-04\n",
      "Epoch 36/100\n",
      "31932/31932 [==============================] - 0s 11us/step - loss: 1.0951e-04\n",
      "Epoch 37/100\n",
      "31932/31932 [==============================] - 0s 12us/step - loss: 1.0920e-04\n",
      "Epoch 38/100\n",
      "31932/31932 [==============================] - 0s 13us/step - loss: 1.0877e-04\n",
      "Epoch 39/100\n",
      "31932/31932 [==============================] - 0s 10us/step - loss: 1.0861e-04\n",
      "Epoch 40/100\n",
      "31932/31932 [==============================] - 0s 12us/step - loss: 1.0813e-04\n",
      "Epoch 41/100\n",
      "31932/31932 [==============================] - 0s 12us/step - loss: 1.0758e-04\n",
      "Epoch 42/100\n",
      "31932/31932 [==============================] - 0s 11us/step - loss: 1.0735e-04\n",
      "Epoch 43/100\n",
      "31932/31932 [==============================] - 0s 10us/step - loss: 1.0686e-04\n",
      "Epoch 44/100\n",
      "31932/31932 [==============================] - 0s 12us/step - loss: 1.0664e-04\n",
      "Epoch 45/100\n",
      "31932/31932 [==============================] - 0s 12us/step - loss: 1.0629e-04\n",
      "Epoch 46/100\n",
      "31932/31932 [==============================] - 0s 10us/step - loss: 1.0575e-04\n",
      "Epoch 47/100\n",
      "31932/31932 [==============================] - 0s 12us/step - loss: 1.0503e-04\n",
      "Epoch 48/100\n",
      "31932/31932 [==============================] - 0s 13us/step - loss: 1.0447e-04\n",
      "Epoch 49/100\n",
      "31932/31932 [==============================] - 0s 12us/step - loss: 1.0429e-04\n",
      "Epoch 50/100\n",
      "31932/31932 [==============================] - 0s 10us/step - loss: 1.0346e-04\n",
      "Epoch 51/100\n",
      "31932/31932 [==============================] - 0s 12us/step - loss: 1.0342e-04\n",
      "Epoch 52/100\n",
      "31932/31932 [==============================] - 0s 11us/step - loss: 1.0259e-04: 0s - loss: 1.0473\n",
      "Epoch 53/100\n",
      "31932/31932 [==============================] - 0s 11us/step - loss: 1.0249e-04\n",
      "Epoch 54/100\n",
      "31932/31932 [==============================] - 0s 10us/step - loss: 1.0170e-04\n",
      "Epoch 55/100\n",
      "31932/31932 [==============================] - 0s 12us/step - loss: 1.0143e-04\n",
      "Epoch 56/100\n",
      "31932/31932 [==============================] - 0s 12us/step - loss: 1.0072e-04\n",
      "Epoch 57/100\n",
      "31932/31932 [==============================] - 0s 10us/step - loss: 1.0055e-04\n",
      "Epoch 58/100\n",
      "31932/31932 [==============================] - 0s 11us/step - loss: 9.9793e-05\n",
      "Epoch 59/100\n",
      "31932/31932 [==============================] - 0s 12us/step - loss: 9.9235e-05\n",
      "Epoch 60/100\n",
      "31932/31932 [==============================] - 0s 13us/step - loss: 9.8548e-05\n",
      "Epoch 61/100\n",
      "31932/31932 [==============================] - 0s 10us/step - loss: 9.8336e-05\n",
      "Epoch 62/100\n",
      "31932/31932 [==============================] - 0s 12us/step - loss: 9.8409e-05\n",
      "Epoch 63/100\n",
      "31932/31932 [==============================] - 0s 12us/step - loss: 9.7620e-05\n",
      "Epoch 64/100\n",
      "31932/31932 [==============================] - 0s 15us/step - loss: 9.7099e-05\n",
      "Epoch 65/100\n",
      "31932/31932 [==============================] - 0s 12us/step - loss: 9.6105e-05\n",
      "Epoch 66/100\n",
      "31932/31932 [==============================] - 0s 10us/step - loss: 9.6103e-05\n",
      "Epoch 67/100\n",
      "31932/31932 [==============================] - 0s 12us/step - loss: 9.5732e-05\n",
      "Epoch 68/100\n",
      "31932/31932 [==============================] - 0s 11us/step - loss: 9.5471e-05\n",
      "Epoch 69/100\n",
      "31932/31932 [==============================] - 0s 10us/step - loss: 9.4468e-05\n",
      "Epoch 70/100\n",
      "31932/31932 [==============================] - 0s 11us/step - loss: 9.4039e-05\n",
      "Epoch 71/100\n",
      "31932/31932 [==============================] - 0s 10us/step - loss: 9.4240e-05\n",
      "Epoch 72/100\n",
      "31932/31932 [==============================] - 0s 8us/step - loss: 9.3622e-05\n",
      "Epoch 73/100\n",
      "31932/31932 [==============================] - 0s 10us/step - loss: 9.2704e-05\n",
      "Epoch 74/100\n",
      "31932/31932 [==============================] - 0s 8us/step - loss: 9.2413e-05\n",
      "Epoch 75/100\n",
      "31932/31932 [==============================] - 0s 10us/step - loss: 9.2301e-05\n",
      "Epoch 76/100\n",
      "31932/31932 [==============================] - 0s 10us/step - loss: 9.1313e-05\n",
      "Epoch 77/100\n",
      "31932/31932 [==============================] - 0s 8us/step - loss: 9.1122e-05\n",
      "Epoch 78/100\n",
      "31932/31932 [==============================] - 0s 10us/step - loss: 9.0403e-05\n",
      "Epoch 79/100\n",
      "31932/31932 [==============================] - 0s 8us/step - loss: 9.0579e-05\n",
      "Epoch 80/100\n",
      "31932/31932 [==============================] - 0s 10us/step - loss: 8.9981e-05\n",
      "Epoch 81/100\n",
      "31932/31932 [==============================] - 0s 10us/step - loss: 9.0260e-05\n",
      "Epoch 82/100\n",
      "31932/31932 [==============================] - 0s 8us/step - loss: 8.9455e-05\n",
      "Epoch 83/100\n",
      "31932/31932 [==============================] - 0s 10us/step - loss: 8.8692e-05\n",
      "Epoch 84/100\n",
      "31932/31932 [==============================] - 0s 9us/step - loss: 8.9162e-05\n",
      "Epoch 85/100\n",
      "31932/31932 [==============================] - 0s 10us/step - loss: 8.7921e-05\n",
      "Epoch 86/100\n",
      "31932/31932 [==============================] - 0s 10us/step - loss: 8.8033e-05\n",
      "Epoch 87/100\n",
      "31932/31932 [==============================] - 0s 8us/step - loss: 8.7700e-05\n",
      "Epoch 88/100\n",
      "31932/31932 [==============================] - 0s 10us/step - loss: 8.8235e-05\n",
      "Epoch 89/100\n"
     ]
    },
    {
     "name": "stdout",
     "output_type": "stream",
     "text": [
      "31932/31932 [==============================] - 0s 8us/step - loss: 8.7483e-05\n",
      "Epoch 90/100\n",
      "31932/31932 [==============================] - 0s 10us/step - loss: 8.7974e-05\n",
      "Epoch 91/100\n",
      "31932/31932 [==============================] - 0s 10us/step - loss: 8.6935e-05\n",
      "Epoch 92/100\n",
      "31932/31932 [==============================] - 0s 8us/step - loss: 8.6096e-05\n",
      "Epoch 93/100\n",
      "31932/31932 [==============================] - 0s 11us/step - loss: 8.5724e-05\n",
      "Epoch 94/100\n",
      "31932/31932 [==============================] - 0s 8us/step - loss: 8.6087e-05\n",
      "Epoch 95/100\n",
      "31932/31932 [==============================] - 0s 10us/step - loss: 8.6061e-05\n",
      "Epoch 96/100\n",
      "31932/31932 [==============================] - 0s 10us/step - loss: 8.5237e-05\n",
      "Epoch 97/100\n",
      "31932/31932 [==============================] - 0s 8us/step - loss: 8.5604e-05\n",
      "Epoch 98/100\n",
      "31932/31932 [==============================] - 0s 10us/step - loss: 8.5543e-05\n",
      "Epoch 99/100\n",
      "31932/31932 [==============================] - 0s 9us/step - loss: 8.5324e-05\n",
      "Epoch 100/100\n",
      "31932/31932 [==============================] - 0s 11us/step - loss: 8.5154e-05\n"
     ]
    },
    {
     "data": {
      "text/plain": [
       "<tensorflow.python.keras.callbacks.History at 0x21a27a01278>"
      ]
     },
     "execution_count": 21,
     "metadata": {},
     "output_type": "execute_result"
    }
   ],
   "source": [
    "model = Sequential()\n",
    "model.add(LSTM(4, input_shape=(1, look_back)))\n",
    "model.add(Dense(1))\n",
    "model.compile(loss='mean_squared_error', optimizer='adam')\n",
    "model.fit(trainX, trainY, epochs=100, batch_size=256, verbose=1)"
   ]
  },
  {
   "cell_type": "code",
   "execution_count": 22,
   "metadata": {},
   "outputs": [],
   "source": [
    "trainPredict = model.predict(trainX)\n",
    "testPredict = model.predict(testX)"
   ]
  },
  {
   "cell_type": "code",
   "execution_count": 23,
   "metadata": {},
   "outputs": [],
   "source": [
    "trainPredict = scaler.inverse_transform(trainPredict)\n",
    "trainY = scaler.inverse_transform([trainY])\n",
    "testPredict = scaler.inverse_transform(testPredict)\n",
    "testY = scaler.inverse_transform([testY])"
   ]
  },
  {
   "cell_type": "code",
   "execution_count": 24,
   "metadata": {},
   "outputs": [
    {
     "name": "stdout",
     "output_type": "stream",
     "text": [
      "Train Score: 4.75 RMSE\n",
      "Test Score: 5.96 RMSE\n"
     ]
    }
   ],
   "source": [
    "trainScore = math.sqrt(mean_squared_error(trainY[0], trainPredict[:, 0]))\n",
    "print('Train Score: %.2f RMSE' % (trainScore))\n",
    "testScore = math.sqrt(mean_squared_error(testY[0], testPredict[:, 0]))\n",
    "print('Test Score: %.2f RMSE' % (testScore))"
   ]
  },
  {
   "cell_type": "code",
   "execution_count": 25,
   "metadata": {},
   "outputs": [],
   "source": [
    "#shift train predictions for plotting\n",
    "trainPredictPlot = np.empty_like(dataset)\n",
    "trainPredictPlot[:, :] = np.nan\n",
    "trainPredictPlot[look_back: len(trainPredict) + look_back, :] = trainPredict"
   ]
  },
  {
   "cell_type": "code",
   "execution_count": 27,
   "metadata": {},
   "outputs": [],
   "source": [
    "#Shift test predictions for plotting\n",
    "testPredictPlot = np.empty_like(dataset)\n",
    "testPredictPlot[:, :] = np.nan\n",
    "testPredictPlot[len(trainPredict) + (look_back * 2) : len(dataset) + 3, :] = testPredict"
   ]
  },
  {
   "cell_type": "code",
   "execution_count": 28,
   "metadata": {},
   "outputs": [
    {
     "data": {
      "image/png": "[encoded data removed]",
      "text/plain": [
       "<Figure size 1440x720 with 1 Axes>"
      ]
     },
     "metadata": {
      "needs_background": "light"
     },
     "output_type": "display_data"
    }
   ],
   "source": [
    "plt.figure(figsize=(20, 10))\n",
    "plt.plot(df['last'], label='Actual')\n",
    "plt.plot(pd.DataFrame(trainPredictPlot, columns=[\"close\"], index=df.index).close, label='Training')\n",
    "plt.plot(pd.DataFrame(testPredictPlot, columns=[\"close\"], index=df.index).close, label='Testing')\n",
    "plt.legend(loc='best')\n",
    "plt.show()"
   ]
  },
  {
   "cell_type": "markdown",
   "metadata": {},
   "source": [
    "As you can see from the graph above that the accuracy of this model is exceptional. But this project was meant for educational purposes only.\n"
   ]
  }
 ],
 "metadata": {
  "kernelspec": {
   "display_name": "tfp3.6",
   "language": "python",
   "name": "tfp3.6"
  },
  "language_info": {
   "codemirror_mode": {
    "name": "ipython",
    "version": 3
   },
   "file_extension": ".py",
   "mimetype": "text/x-python",
   "name": "python",
   "nbconvert_exporter": "python",
   "pygments_lexer": "ipython3",
   "version": "3.6.7"
  }
 },
 "nbformat": 4,
 "nbformat_minor": 2
}
